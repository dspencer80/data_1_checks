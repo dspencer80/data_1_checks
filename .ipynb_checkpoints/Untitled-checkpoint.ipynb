{
 "cells": [
  {
   "cell_type": "code",
   "execution_count": 44,
   "id": "c676921e",
   "metadata": {},
   "outputs": [],
   "source": [
    "import pandas as pd"
   ]
  },
  {
   "cell_type": "code",
   "execution_count": 70,
   "id": "b23d232a",
   "metadata": {},
   "outputs": [],
   "source": [
    "import requests\n",
    "response =requests.get('https://tradestie.com/api/v1/apps/reddit')\n"
   ]
  },
  {
   "cell_type": "code",
   "execution_count": 71,
   "id": "3f325702",
   "metadata": {},
   "outputs": [
    {
     "name": "stdout",
     "output_type": "stream",
     "text": [
      "200\n"
     ]
    }
   ],
   "source": [
    "print(response.status_code)"
   ]
  },
  {
   "cell_type": "code",
   "execution_count": 72,
   "id": "57459865",
   "metadata": {},
   "outputs": [
    {
     "name": "stdout",
     "output_type": "stream",
     "text": [
      "[{'no_of_comments': 55, 'sentiment': 'Bullish', 'sentiment_score': 0.298, 'ticker': 'AI'}, {'no_of_comments': 16, 'sentiment': 'Bullish', 'sentiment_score': 0.349, 'ticker': 'AAPL'}, {'no_of_comments': 10, 'sentiment': 'Bullish', 'sentiment_score': 0.296, 'ticker': 'ADBE'}, {'no_of_comments': 9, 'sentiment': 'Bullish', 'sentiment_score': 0.157, 'ticker': 'CCL'}, {'no_of_comments': 9, 'sentiment': 'Bullish', 'sentiment_score': 0.031, 'ticker': 'NVDA'}, {'no_of_comments': 9, 'sentiment': 'Bullish', 'sentiment_score': 0.163, 'ticker': 'TSLA'}, {'no_of_comments': 8, 'sentiment': 'Bullish', 'sentiment_score': 0.195, 'ticker': 'PTON'}, {'no_of_comments': 5, 'sentiment': 'Bearish', 'sentiment_score': -0.077, 'ticker': 'QQQ'}, {'no_of_comments': 5, 'sentiment': 'Bullish', 'sentiment_score': 0.198, 'ticker': 'AMD'}, {'no_of_comments': 4, 'sentiment': 'Bearish', 'sentiment_score': -0.025, 'ticker': 'IBM'}, {'no_of_comments': 3, 'sentiment': 'Bullish', 'sentiment_score': 0.741, 'ticker': 'FGEN'}, {'no_of_comments': 3, 'sentiment': 'Bearish', 'sentiment_score': -0.247, 'ticker': 'AR'}, {'no_of_comments': 3, 'sentiment': 'Bearish', 'sentiment_score': -0.906, 'ticker': 'WB'}, {'no_of_comments': 3, 'sentiment': 'Bullish', 'sentiment_score': 0.2, 'ticker': 'PLTR'}, {'no_of_comments': 3, 'sentiment': 'Bullish', 'sentiment_score': 0.399, 'ticker': 'TA'}, {'no_of_comments': 2, 'sentiment': 'Bearish', 'sentiment_score': -0.546, 'ticker': 'DTE'}, {'no_of_comments': 2, 'sentiment': 'Bearish', 'sentiment_score': -0.416, 'ticker': 'AMC'}, {'no_of_comments': 2, 'sentiment': 'Bearish', 'sentiment_score': -0.697, 'ticker': 'REIT'}, {'no_of_comments': 2, 'sentiment': 'Bearish', 'sentiment_score': -0.148, 'ticker': 'RIDE'}, {'no_of_comments': 2, 'sentiment': 'Bullish', 'sentiment_score': 0.328, 'ticker': 'MSFT'}, {'no_of_comments': 2, 'sentiment': 'Bullish', 'sentiment_score': 0.591, 'ticker': 'GL'}, {'no_of_comments': 2, 'sentiment': 'Bullish', 'sentiment_score': 0.144, 'ticker': 'TQQQ'}, {'no_of_comments': 2, 'sentiment': 'Bullish', 'sentiment_score': 0.702, 'ticker': 'CRWD'}, {'no_of_comments': 2, 'sentiment': 'Bullish', 'sentiment_score': 0.051, 'ticker': 'IP'}, {'no_of_comments': 2, 'sentiment': 'Bullish', 'sentiment_score': 0.405, 'ticker': 'GM'}, {'no_of_comments': 2, 'sentiment': 'Bullish', 'sentiment_score': 0.427, 'ticker': 'ON'}, {'no_of_comments': 2, 'sentiment': 'Bearish', 'sentiment_score': -0.127, 'ticker': 'BUD'}, {'no_of_comments': 1, 'sentiment': 'Bearish', 'sentiment_score': -0.633, 'ticker': 'HUGE'}, {'no_of_comments': 1, 'sentiment': 'Bullish', 'sentiment_score': 0.03, 'ticker': 'CVGW'}, {'no_of_comments': 1, 'sentiment': 'Bearish', 'sentiment_score': -0.387, 'ticker': 'UPST'}, {'no_of_comments': 1, 'sentiment': 'Bearish', 'sentiment_score': -0.751, 'ticker': 'BBC'}, {'no_of_comments': 1, 'sentiment': 'Bullish', 'sentiment_score': 0.659, 'ticker': 'PDT'}, {'no_of_comments': 1, 'sentiment': 'Bullish', 'sentiment_score': 0.38, 'ticker': 'HP'}, {'no_of_comments': 1, 'sentiment': 'Bearish', 'sentiment_score': 0.0, 'ticker': 'NET'}, {'no_of_comments': 1, 'sentiment': 'Bullish', 'sentiment_score': 0.34, 'ticker': 'GOOGL'}, {'no_of_comments': 1, 'sentiment': 'Bearish', 'sentiment_score': -0.035, 'ticker': 'UAE'}, {'no_of_comments': 1, 'sentiment': 'Bearish', 'sentiment_score': 0.0, 'ticker': 'HOOD'}, {'no_of_comments': 1, 'sentiment': 'Bearish', 'sentiment_score': 0.0, 'ticker': 'TD'}, {'no_of_comments': 1, 'sentiment': 'Bullish', 'sentiment_score': 0.444, 'ticker': 'AN'}, {'no_of_comments': 1, 'sentiment': 'Bullish', 'sentiment_score': 0.44, 'ticker': 'SQQQ'}, {'no_of_comments': 1, 'sentiment': 'Bearish', 'sentiment_score': -0.382, 'ticker': 'RKT'}, {'no_of_comments': 1, 'sentiment': 'Bullish', 'sentiment_score': 0.271, 'ticker': 'FB'}, {'no_of_comments': 1, 'sentiment': 'Bullish', 'sentiment_score': 0.468, 'ticker': 'USB'}, {'no_of_comments': 1, 'sentiment': 'Bearish', 'sentiment_score': -0.694, 'ticker': 'DX'}, {'no_of_comments': 1, 'sentiment': 'Bearish', 'sentiment_score': 0.0, 'ticker': 'MA'}, {'no_of_comments': 1, 'sentiment': 'Bearish', 'sentiment_score': -0.747, 'ticker': 'WWE'}, {'no_of_comments': 1, 'sentiment': 'Bearish', 'sentiment_score': 0.0, 'ticker': 'CP'}, {'no_of_comments': 1, 'sentiment': 'Bullish', 'sentiment_score': 0.989, 'ticker': 'MRNA'}, {'no_of_comments': 1, 'sentiment': 'Bullish', 'sentiment_score': 0.603, 'ticker': 'VERY'}, {'no_of_comments': 1, 'sentiment': 'Bullish', 'sentiment_score': 0.532, 'ticker': 'WISH'}]\n"
     ]
    }
   ],
   "source": [
    "print(response.json())"
   ]
  },
  {
   "cell_type": "code",
   "execution_count": 73,
   "id": "9e13f39e",
   "metadata": {},
   "outputs": [],
   "source": [
    "data = response.json()"
   ]
  },
  {
   "cell_type": "code",
   "execution_count": 74,
   "id": "9788f804",
   "metadata": {},
   "outputs": [
    {
     "name": "stdout",
     "output_type": "stream",
     "text": [
      "[{'no_of_comments': 55, 'sentiment': 'Bullish', 'sentiment_score': 0.298, 'ticker': 'AI'}, {'no_of_comments': 16, 'sentiment': 'Bullish', 'sentiment_score': 0.349, 'ticker': 'AAPL'}, {'no_of_comments': 10, 'sentiment': 'Bullish', 'sentiment_score': 0.296, 'ticker': 'ADBE'}, {'no_of_comments': 9, 'sentiment': 'Bullish', 'sentiment_score': 0.157, 'ticker': 'CCL'}, {'no_of_comments': 9, 'sentiment': 'Bullish', 'sentiment_score': 0.031, 'ticker': 'NVDA'}, {'no_of_comments': 9, 'sentiment': 'Bullish', 'sentiment_score': 0.163, 'ticker': 'TSLA'}, {'no_of_comments': 8, 'sentiment': 'Bullish', 'sentiment_score': 0.195, 'ticker': 'PTON'}, {'no_of_comments': 5, 'sentiment': 'Bearish', 'sentiment_score': -0.077, 'ticker': 'QQQ'}, {'no_of_comments': 5, 'sentiment': 'Bullish', 'sentiment_score': 0.198, 'ticker': 'AMD'}, {'no_of_comments': 4, 'sentiment': 'Bearish', 'sentiment_score': -0.025, 'ticker': 'IBM'}, {'no_of_comments': 3, 'sentiment': 'Bullish', 'sentiment_score': 0.741, 'ticker': 'FGEN'}, {'no_of_comments': 3, 'sentiment': 'Bearish', 'sentiment_score': -0.247, 'ticker': 'AR'}, {'no_of_comments': 3, 'sentiment': 'Bearish', 'sentiment_score': -0.906, 'ticker': 'WB'}, {'no_of_comments': 3, 'sentiment': 'Bullish', 'sentiment_score': 0.2, 'ticker': 'PLTR'}, {'no_of_comments': 3, 'sentiment': 'Bullish', 'sentiment_score': 0.399, 'ticker': 'TA'}, {'no_of_comments': 2, 'sentiment': 'Bearish', 'sentiment_score': -0.546, 'ticker': 'DTE'}, {'no_of_comments': 2, 'sentiment': 'Bearish', 'sentiment_score': -0.416, 'ticker': 'AMC'}, {'no_of_comments': 2, 'sentiment': 'Bearish', 'sentiment_score': -0.697, 'ticker': 'REIT'}, {'no_of_comments': 2, 'sentiment': 'Bearish', 'sentiment_score': -0.148, 'ticker': 'RIDE'}, {'no_of_comments': 2, 'sentiment': 'Bullish', 'sentiment_score': 0.328, 'ticker': 'MSFT'}, {'no_of_comments': 2, 'sentiment': 'Bullish', 'sentiment_score': 0.591, 'ticker': 'GL'}, {'no_of_comments': 2, 'sentiment': 'Bullish', 'sentiment_score': 0.144, 'ticker': 'TQQQ'}, {'no_of_comments': 2, 'sentiment': 'Bullish', 'sentiment_score': 0.702, 'ticker': 'CRWD'}, {'no_of_comments': 2, 'sentiment': 'Bullish', 'sentiment_score': 0.051, 'ticker': 'IP'}, {'no_of_comments': 2, 'sentiment': 'Bullish', 'sentiment_score': 0.405, 'ticker': 'GM'}, {'no_of_comments': 2, 'sentiment': 'Bullish', 'sentiment_score': 0.427, 'ticker': 'ON'}, {'no_of_comments': 2, 'sentiment': 'Bearish', 'sentiment_score': -0.127, 'ticker': 'BUD'}, {'no_of_comments': 1, 'sentiment': 'Bearish', 'sentiment_score': -0.633, 'ticker': 'HUGE'}, {'no_of_comments': 1, 'sentiment': 'Bullish', 'sentiment_score': 0.03, 'ticker': 'CVGW'}, {'no_of_comments': 1, 'sentiment': 'Bearish', 'sentiment_score': -0.387, 'ticker': 'UPST'}, {'no_of_comments': 1, 'sentiment': 'Bearish', 'sentiment_score': -0.751, 'ticker': 'BBC'}, {'no_of_comments': 1, 'sentiment': 'Bullish', 'sentiment_score': 0.659, 'ticker': 'PDT'}, {'no_of_comments': 1, 'sentiment': 'Bullish', 'sentiment_score': 0.38, 'ticker': 'HP'}, {'no_of_comments': 1, 'sentiment': 'Bearish', 'sentiment_score': 0.0, 'ticker': 'NET'}, {'no_of_comments': 1, 'sentiment': 'Bullish', 'sentiment_score': 0.34, 'ticker': 'GOOGL'}, {'no_of_comments': 1, 'sentiment': 'Bearish', 'sentiment_score': -0.035, 'ticker': 'UAE'}, {'no_of_comments': 1, 'sentiment': 'Bearish', 'sentiment_score': 0.0, 'ticker': 'HOOD'}, {'no_of_comments': 1, 'sentiment': 'Bearish', 'sentiment_score': 0.0, 'ticker': 'TD'}, {'no_of_comments': 1, 'sentiment': 'Bullish', 'sentiment_score': 0.444, 'ticker': 'AN'}, {'no_of_comments': 1, 'sentiment': 'Bullish', 'sentiment_score': 0.44, 'ticker': 'SQQQ'}, {'no_of_comments': 1, 'sentiment': 'Bearish', 'sentiment_score': -0.382, 'ticker': 'RKT'}, {'no_of_comments': 1, 'sentiment': 'Bullish', 'sentiment_score': 0.271, 'ticker': 'FB'}, {'no_of_comments': 1, 'sentiment': 'Bullish', 'sentiment_score': 0.468, 'ticker': 'USB'}, {'no_of_comments': 1, 'sentiment': 'Bearish', 'sentiment_score': -0.694, 'ticker': 'DX'}, {'no_of_comments': 1, 'sentiment': 'Bearish', 'sentiment_score': 0.0, 'ticker': 'MA'}, {'no_of_comments': 1, 'sentiment': 'Bearish', 'sentiment_score': -0.747, 'ticker': 'WWE'}, {'no_of_comments': 1, 'sentiment': 'Bearish', 'sentiment_score': 0.0, 'ticker': 'CP'}, {'no_of_comments': 1, 'sentiment': 'Bullish', 'sentiment_score': 0.989, 'ticker': 'MRNA'}, {'no_of_comments': 1, 'sentiment': 'Bullish', 'sentiment_score': 0.603, 'ticker': 'VERY'}, {'no_of_comments': 1, 'sentiment': 'Bullish', 'sentiment_score': 0.532, 'ticker': 'WISH'}]\n"
     ]
    }
   ],
   "source": [
    "print(data)"
   ]
  },
  {
   "cell_type": "code",
   "execution_count": 76,
   "id": "51b85f55",
   "metadata": {},
   "outputs": [
    {
     "data": {
      "text/html": [
       "<div>\n",
       "<style scoped>\n",
       "    .dataframe tbody tr th:only-of-type {\n",
       "        vertical-align: middle;\n",
       "    }\n",
       "\n",
       "    .dataframe tbody tr th {\n",
       "        vertical-align: top;\n",
       "    }\n",
       "\n",
       "    .dataframe thead th {\n",
       "        text-align: right;\n",
       "    }\n",
       "</style>\n",
       "<table border=\"1\" class=\"dataframe\">\n",
       "  <thead>\n",
       "    <tr style=\"text-align: right;\">\n",
       "      <th></th>\n",
       "      <th>no_of_comments</th>\n",
       "      <th>sentiment</th>\n",
       "      <th>sentiment_score</th>\n",
       "      <th>ticker</th>\n",
       "    </tr>\n",
       "  </thead>\n",
       "  <tbody>\n",
       "    <tr>\n",
       "      <th>0</th>\n",
       "      <td>55</td>\n",
       "      <td>Bullish</td>\n",
       "      <td>0.298</td>\n",
       "      <td>AI</td>\n",
       "    </tr>\n",
       "    <tr>\n",
       "      <th>1</th>\n",
       "      <td>16</td>\n",
       "      <td>Bullish</td>\n",
       "      <td>0.349</td>\n",
       "      <td>AAPL</td>\n",
       "    </tr>\n",
       "    <tr>\n",
       "      <th>2</th>\n",
       "      <td>10</td>\n",
       "      <td>Bullish</td>\n",
       "      <td>0.296</td>\n",
       "      <td>ADBE</td>\n",
       "    </tr>\n",
       "    <tr>\n",
       "      <th>3</th>\n",
       "      <td>9</td>\n",
       "      <td>Bullish</td>\n",
       "      <td>0.157</td>\n",
       "      <td>CCL</td>\n",
       "    </tr>\n",
       "    <tr>\n",
       "      <th>4</th>\n",
       "      <td>9</td>\n",
       "      <td>Bullish</td>\n",
       "      <td>0.031</td>\n",
       "      <td>NVDA</td>\n",
       "    </tr>\n",
       "    <tr>\n",
       "      <th>5</th>\n",
       "      <td>9</td>\n",
       "      <td>Bullish</td>\n",
       "      <td>0.163</td>\n",
       "      <td>TSLA</td>\n",
       "    </tr>\n",
       "    <tr>\n",
       "      <th>6</th>\n",
       "      <td>8</td>\n",
       "      <td>Bullish</td>\n",
       "      <td>0.195</td>\n",
       "      <td>PTON</td>\n",
       "    </tr>\n",
       "    <tr>\n",
       "      <th>7</th>\n",
       "      <td>5</td>\n",
       "      <td>Bearish</td>\n",
       "      <td>-0.077</td>\n",
       "      <td>QQQ</td>\n",
       "    </tr>\n",
       "    <tr>\n",
       "      <th>8</th>\n",
       "      <td>5</td>\n",
       "      <td>Bullish</td>\n",
       "      <td>0.198</td>\n",
       "      <td>AMD</td>\n",
       "    </tr>\n",
       "    <tr>\n",
       "      <th>9</th>\n",
       "      <td>4</td>\n",
       "      <td>Bearish</td>\n",
       "      <td>-0.025</td>\n",
       "      <td>IBM</td>\n",
       "    </tr>\n",
       "  </tbody>\n",
       "</table>\n",
       "</div>"
      ],
      "text/plain": [
       "   no_of_comments sentiment  sentiment_score ticker\n",
       "0              55   Bullish            0.298     AI\n",
       "1              16   Bullish            0.349   AAPL\n",
       "2              10   Bullish            0.296   ADBE\n",
       "3               9   Bullish            0.157    CCL\n",
       "4               9   Bullish            0.031   NVDA\n",
       "5               9   Bullish            0.163   TSLA\n",
       "6               8   Bullish            0.195   PTON\n",
       "7               5   Bearish           -0.077    QQQ\n",
       "8               5   Bullish            0.198    AMD\n",
       "9               4   Bearish           -0.025    IBM"
      ]
     },
     "execution_count": 76,
     "metadata": {},
     "output_type": "execute_result"
    }
   ],
   "source": [
    "df = pd.DataFrame(data=data)\n",
    "df.head(10)"
   ]
  },
  {
   "cell_type": "code",
   "execution_count": null,
   "id": "fab5d513",
   "metadata": {},
   "outputs": [],
   "source": []
  }
 ],
 "metadata": {
  "kernelspec": {
   "display_name": "Python 3 (ipykernel)",
   "language": "python",
   "name": "python3"
  },
  "language_info": {
   "codemirror_mode": {
    "name": "ipython",
    "version": 3
   },
   "file_extension": ".py",
   "mimetype": "text/x-python",
   "name": "python",
   "nbconvert_exporter": "python",
   "pygments_lexer": "ipython3",
   "version": "3.9.13"
  }
 },
 "nbformat": 4,
 "nbformat_minor": 5
}
