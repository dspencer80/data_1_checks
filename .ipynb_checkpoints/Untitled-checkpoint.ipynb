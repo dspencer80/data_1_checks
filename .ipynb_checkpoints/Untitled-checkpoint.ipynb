{
 "cells": [
  {
   "cell_type": "code",
   "execution_count": 1,
   "id": "b2733229",
   "metadata": {},
   "outputs": [],
   "source": [
    "import pandas as pd"
   ]
  },
  {
   "cell_type": "code",
   "execution_count": 2,
   "id": "794a66a8",
   "metadata": {},
   "outputs": [],
   "source": [
    "import numpy as np"
   ]
  },
  {
   "cell_type": "code",
   "execution_count": 3,
   "id": "942d8415",
   "metadata": {},
   "outputs": [],
   "source": [
    "import requests\n",
    "response =requests.get('https://tradestie.com/api/v1/apps/reddit')\n"
   ]
  },
  {
   "cell_type": "code",
   "execution_count": 4,
   "id": "6d2adfc9",
   "metadata": {},
   "outputs": [
    {
     "name": "stdout",
     "output_type": "stream",
     "text": [
      "200\n"
     ]
    }
   ],
   "source": [
    "print(response.status_code)"
   ]
  },
  {
   "cell_type": "code",
   "execution_count": 5,
   "id": "b8ec237a",
   "metadata": {},
   "outputs": [
    {
     "name": "stdout",
     "output_type": "stream",
     "text": [
      "[{'no_of_comments': 55, 'sentiment': 'Bullish', 'sentiment_score': 0.298, 'ticker': 'AI'}, {'no_of_comments': 16, 'sentiment': 'Bullish', 'sentiment_score': 0.349, 'ticker': 'AAPL'}, {'no_of_comments': 10, 'sentiment': 'Bullish', 'sentiment_score': 0.296, 'ticker': 'ADBE'}, {'no_of_comments': 9, 'sentiment': 'Bullish', 'sentiment_score': 0.157, 'ticker': 'CCL'}, {'no_of_comments': 9, 'sentiment': 'Bullish', 'sentiment_score': 0.031, 'ticker': 'NVDA'}, {'no_of_comments': 9, 'sentiment': 'Bullish', 'sentiment_score': 0.163, 'ticker': 'TSLA'}, {'no_of_comments': 8, 'sentiment': 'Bullish', 'sentiment_score': 0.195, 'ticker': 'PTON'}, {'no_of_comments': 5, 'sentiment': 'Bearish', 'sentiment_score': -0.077, 'ticker': 'QQQ'}, {'no_of_comments': 5, 'sentiment': 'Bullish', 'sentiment_score': 0.198, 'ticker': 'AMD'}, {'no_of_comments': 4, 'sentiment': 'Bearish', 'sentiment_score': -0.025, 'ticker': 'IBM'}, {'no_of_comments': 3, 'sentiment': 'Bullish', 'sentiment_score': 0.741, 'ticker': 'FGEN'}, {'no_of_comments': 3, 'sentiment': 'Bearish', 'sentiment_score': -0.247, 'ticker': 'AR'}, {'no_of_comments': 3, 'sentiment': 'Bearish', 'sentiment_score': -0.906, 'ticker': 'WB'}, {'no_of_comments': 3, 'sentiment': 'Bullish', 'sentiment_score': 0.2, 'ticker': 'PLTR'}, {'no_of_comments': 3, 'sentiment': 'Bullish', 'sentiment_score': 0.399, 'ticker': 'TA'}, {'no_of_comments': 2, 'sentiment': 'Bearish', 'sentiment_score': -0.546, 'ticker': 'DTE'}, {'no_of_comments': 2, 'sentiment': 'Bearish', 'sentiment_score': -0.416, 'ticker': 'AMC'}, {'no_of_comments': 2, 'sentiment': 'Bearish', 'sentiment_score': -0.697, 'ticker': 'REIT'}, {'no_of_comments': 2, 'sentiment': 'Bearish', 'sentiment_score': -0.148, 'ticker': 'RIDE'}, {'no_of_comments': 2, 'sentiment': 'Bullish', 'sentiment_score': 0.328, 'ticker': 'MSFT'}, {'no_of_comments': 2, 'sentiment': 'Bullish', 'sentiment_score': 0.591, 'ticker': 'GL'}, {'no_of_comments': 2, 'sentiment': 'Bullish', 'sentiment_score': 0.144, 'ticker': 'TQQQ'}, {'no_of_comments': 2, 'sentiment': 'Bullish', 'sentiment_score': 0.702, 'ticker': 'CRWD'}, {'no_of_comments': 2, 'sentiment': 'Bullish', 'sentiment_score': 0.051, 'ticker': 'IP'}, {'no_of_comments': 2, 'sentiment': 'Bullish', 'sentiment_score': 0.405, 'ticker': 'GM'}, {'no_of_comments': 2, 'sentiment': 'Bullish', 'sentiment_score': 0.427, 'ticker': 'ON'}, {'no_of_comments': 2, 'sentiment': 'Bearish', 'sentiment_score': -0.127, 'ticker': 'BUD'}, {'no_of_comments': 1, 'sentiment': 'Bearish', 'sentiment_score': -0.633, 'ticker': 'HUGE'}, {'no_of_comments': 1, 'sentiment': 'Bullish', 'sentiment_score': 0.03, 'ticker': 'CVGW'}, {'no_of_comments': 1, 'sentiment': 'Bearish', 'sentiment_score': -0.387, 'ticker': 'UPST'}, {'no_of_comments': 1, 'sentiment': 'Bearish', 'sentiment_score': -0.751, 'ticker': 'BBC'}, {'no_of_comments': 1, 'sentiment': 'Bullish', 'sentiment_score': 0.659, 'ticker': 'PDT'}, {'no_of_comments': 1, 'sentiment': 'Bullish', 'sentiment_score': 0.38, 'ticker': 'HP'}, {'no_of_comments': 1, 'sentiment': 'Bearish', 'sentiment_score': 0.0, 'ticker': 'NET'}, {'no_of_comments': 1, 'sentiment': 'Bullish', 'sentiment_score': 0.34, 'ticker': 'GOOGL'}, {'no_of_comments': 1, 'sentiment': 'Bearish', 'sentiment_score': -0.035, 'ticker': 'UAE'}, {'no_of_comments': 1, 'sentiment': 'Bearish', 'sentiment_score': 0.0, 'ticker': 'HOOD'}, {'no_of_comments': 1, 'sentiment': 'Bearish', 'sentiment_score': 0.0, 'ticker': 'TD'}, {'no_of_comments': 1, 'sentiment': 'Bullish', 'sentiment_score': 0.444, 'ticker': 'AN'}, {'no_of_comments': 1, 'sentiment': 'Bullish', 'sentiment_score': 0.44, 'ticker': 'SQQQ'}, {'no_of_comments': 1, 'sentiment': 'Bearish', 'sentiment_score': -0.382, 'ticker': 'RKT'}, {'no_of_comments': 1, 'sentiment': 'Bullish', 'sentiment_score': 0.271, 'ticker': 'FB'}, {'no_of_comments': 1, 'sentiment': 'Bullish', 'sentiment_score': 0.468, 'ticker': 'USB'}, {'no_of_comments': 1, 'sentiment': 'Bearish', 'sentiment_score': -0.694, 'ticker': 'DX'}, {'no_of_comments': 1, 'sentiment': 'Bearish', 'sentiment_score': 0.0, 'ticker': 'MA'}, {'no_of_comments': 1, 'sentiment': 'Bearish', 'sentiment_score': -0.747, 'ticker': 'WWE'}, {'no_of_comments': 1, 'sentiment': 'Bearish', 'sentiment_score': 0.0, 'ticker': 'CP'}, {'no_of_comments': 1, 'sentiment': 'Bullish', 'sentiment_score': 0.989, 'ticker': 'MRNA'}, {'no_of_comments': 1, 'sentiment': 'Bullish', 'sentiment_score': 0.603, 'ticker': 'VERY'}, {'no_of_comments': 1, 'sentiment': 'Bullish', 'sentiment_score': 0.532, 'ticker': 'WISH'}]\n"
     ]
    }
   ],
   "source": [
    "print(response.json())"
   ]
  },
  {
   "cell_type": "code",
   "execution_count": 6,
   "id": "60fe9b63",
   "metadata": {},
   "outputs": [],
   "source": [
    "data = response.json()"
   ]
  },
  {
   "cell_type": "code",
   "execution_count": 7,
   "id": "0ba9681f",
   "metadata": {},
   "outputs": [
    {
     "name": "stdout",
     "output_type": "stream",
     "text": [
      "[{'no_of_comments': 55, 'sentiment': 'Bullish', 'sentiment_score': 0.298, 'ticker': 'AI'}, {'no_of_comments': 16, 'sentiment': 'Bullish', 'sentiment_score': 0.349, 'ticker': 'AAPL'}, {'no_of_comments': 10, 'sentiment': 'Bullish', 'sentiment_score': 0.296, 'ticker': 'ADBE'}, {'no_of_comments': 9, 'sentiment': 'Bullish', 'sentiment_score': 0.157, 'ticker': 'CCL'}, {'no_of_comments': 9, 'sentiment': 'Bullish', 'sentiment_score': 0.031, 'ticker': 'NVDA'}, {'no_of_comments': 9, 'sentiment': 'Bullish', 'sentiment_score': 0.163, 'ticker': 'TSLA'}, {'no_of_comments': 8, 'sentiment': 'Bullish', 'sentiment_score': 0.195, 'ticker': 'PTON'}, {'no_of_comments': 5, 'sentiment': 'Bearish', 'sentiment_score': -0.077, 'ticker': 'QQQ'}, {'no_of_comments': 5, 'sentiment': 'Bullish', 'sentiment_score': 0.198, 'ticker': 'AMD'}, {'no_of_comments': 4, 'sentiment': 'Bearish', 'sentiment_score': -0.025, 'ticker': 'IBM'}, {'no_of_comments': 3, 'sentiment': 'Bullish', 'sentiment_score': 0.741, 'ticker': 'FGEN'}, {'no_of_comments': 3, 'sentiment': 'Bearish', 'sentiment_score': -0.247, 'ticker': 'AR'}, {'no_of_comments': 3, 'sentiment': 'Bearish', 'sentiment_score': -0.906, 'ticker': 'WB'}, {'no_of_comments': 3, 'sentiment': 'Bullish', 'sentiment_score': 0.2, 'ticker': 'PLTR'}, {'no_of_comments': 3, 'sentiment': 'Bullish', 'sentiment_score': 0.399, 'ticker': 'TA'}, {'no_of_comments': 2, 'sentiment': 'Bearish', 'sentiment_score': -0.546, 'ticker': 'DTE'}, {'no_of_comments': 2, 'sentiment': 'Bearish', 'sentiment_score': -0.416, 'ticker': 'AMC'}, {'no_of_comments': 2, 'sentiment': 'Bearish', 'sentiment_score': -0.697, 'ticker': 'REIT'}, {'no_of_comments': 2, 'sentiment': 'Bearish', 'sentiment_score': -0.148, 'ticker': 'RIDE'}, {'no_of_comments': 2, 'sentiment': 'Bullish', 'sentiment_score': 0.328, 'ticker': 'MSFT'}, {'no_of_comments': 2, 'sentiment': 'Bullish', 'sentiment_score': 0.591, 'ticker': 'GL'}, {'no_of_comments': 2, 'sentiment': 'Bullish', 'sentiment_score': 0.144, 'ticker': 'TQQQ'}, {'no_of_comments': 2, 'sentiment': 'Bullish', 'sentiment_score': 0.702, 'ticker': 'CRWD'}, {'no_of_comments': 2, 'sentiment': 'Bullish', 'sentiment_score': 0.051, 'ticker': 'IP'}, {'no_of_comments': 2, 'sentiment': 'Bullish', 'sentiment_score': 0.405, 'ticker': 'GM'}, {'no_of_comments': 2, 'sentiment': 'Bullish', 'sentiment_score': 0.427, 'ticker': 'ON'}, {'no_of_comments': 2, 'sentiment': 'Bearish', 'sentiment_score': -0.127, 'ticker': 'BUD'}, {'no_of_comments': 1, 'sentiment': 'Bearish', 'sentiment_score': -0.633, 'ticker': 'HUGE'}, {'no_of_comments': 1, 'sentiment': 'Bullish', 'sentiment_score': 0.03, 'ticker': 'CVGW'}, {'no_of_comments': 1, 'sentiment': 'Bearish', 'sentiment_score': -0.387, 'ticker': 'UPST'}, {'no_of_comments': 1, 'sentiment': 'Bearish', 'sentiment_score': -0.751, 'ticker': 'BBC'}, {'no_of_comments': 1, 'sentiment': 'Bullish', 'sentiment_score': 0.659, 'ticker': 'PDT'}, {'no_of_comments': 1, 'sentiment': 'Bullish', 'sentiment_score': 0.38, 'ticker': 'HP'}, {'no_of_comments': 1, 'sentiment': 'Bearish', 'sentiment_score': 0.0, 'ticker': 'NET'}, {'no_of_comments': 1, 'sentiment': 'Bullish', 'sentiment_score': 0.34, 'ticker': 'GOOGL'}, {'no_of_comments': 1, 'sentiment': 'Bearish', 'sentiment_score': -0.035, 'ticker': 'UAE'}, {'no_of_comments': 1, 'sentiment': 'Bearish', 'sentiment_score': 0.0, 'ticker': 'HOOD'}, {'no_of_comments': 1, 'sentiment': 'Bearish', 'sentiment_score': 0.0, 'ticker': 'TD'}, {'no_of_comments': 1, 'sentiment': 'Bullish', 'sentiment_score': 0.444, 'ticker': 'AN'}, {'no_of_comments': 1, 'sentiment': 'Bullish', 'sentiment_score': 0.44, 'ticker': 'SQQQ'}, {'no_of_comments': 1, 'sentiment': 'Bearish', 'sentiment_score': -0.382, 'ticker': 'RKT'}, {'no_of_comments': 1, 'sentiment': 'Bullish', 'sentiment_score': 0.271, 'ticker': 'FB'}, {'no_of_comments': 1, 'sentiment': 'Bullish', 'sentiment_score': 0.468, 'ticker': 'USB'}, {'no_of_comments': 1, 'sentiment': 'Bearish', 'sentiment_score': -0.694, 'ticker': 'DX'}, {'no_of_comments': 1, 'sentiment': 'Bearish', 'sentiment_score': 0.0, 'ticker': 'MA'}, {'no_of_comments': 1, 'sentiment': 'Bearish', 'sentiment_score': -0.747, 'ticker': 'WWE'}, {'no_of_comments': 1, 'sentiment': 'Bearish', 'sentiment_score': 0.0, 'ticker': 'CP'}, {'no_of_comments': 1, 'sentiment': 'Bullish', 'sentiment_score': 0.989, 'ticker': 'MRNA'}, {'no_of_comments': 1, 'sentiment': 'Bullish', 'sentiment_score': 0.603, 'ticker': 'VERY'}, {'no_of_comments': 1, 'sentiment': 'Bullish', 'sentiment_score': 0.532, 'ticker': 'WISH'}]\n"
     ]
    }
   ],
   "source": [
    "print(data)"
   ]
  },
  {
   "cell_type": "code",
   "execution_count": 8,
   "id": "77d59195",
   "metadata": {},
   "outputs": [
    {
     "data": {
      "text/html": [
       "<div>\n",
       "<style scoped>\n",
       "    .dataframe tbody tr th:only-of-type {\n",
       "        vertical-align: middle;\n",
       "    }\n",
       "\n",
       "    .dataframe tbody tr th {\n",
       "        vertical-align: top;\n",
       "    }\n",
       "\n",
       "    .dataframe thead th {\n",
       "        text-align: right;\n",
       "    }\n",
       "</style>\n",
       "<table border=\"1\" class=\"dataframe\">\n",
       "  <thead>\n",
       "    <tr style=\"text-align: right;\">\n",
       "      <th></th>\n",
       "      <th>no_of_comments</th>\n",
       "      <th>sentiment</th>\n",
       "      <th>sentiment_score</th>\n",
       "      <th>ticker</th>\n",
       "    </tr>\n",
       "  </thead>\n",
       "  <tbody>\n",
       "    <tr>\n",
       "      <th>0</th>\n",
       "      <td>55</td>\n",
       "      <td>Bullish</td>\n",
       "      <td>0.298</td>\n",
       "      <td>AI</td>\n",
       "    </tr>\n",
       "    <tr>\n",
       "      <th>1</th>\n",
       "      <td>16</td>\n",
       "      <td>Bullish</td>\n",
       "      <td>0.349</td>\n",
       "      <td>AAPL</td>\n",
       "    </tr>\n",
       "    <tr>\n",
       "      <th>2</th>\n",
       "      <td>10</td>\n",
       "      <td>Bullish</td>\n",
       "      <td>0.296</td>\n",
       "      <td>ADBE</td>\n",
       "    </tr>\n",
       "    <tr>\n",
       "      <th>3</th>\n",
       "      <td>9</td>\n",
       "      <td>Bullish</td>\n",
       "      <td>0.157</td>\n",
       "      <td>CCL</td>\n",
       "    </tr>\n",
       "    <tr>\n",
       "      <th>4</th>\n",
       "      <td>9</td>\n",
       "      <td>Bullish</td>\n",
       "      <td>0.031</td>\n",
       "      <td>NVDA</td>\n",
       "    </tr>\n",
       "    <tr>\n",
       "      <th>5</th>\n",
       "      <td>9</td>\n",
       "      <td>Bullish</td>\n",
       "      <td>0.163</td>\n",
       "      <td>TSLA</td>\n",
       "    </tr>\n",
       "    <tr>\n",
       "      <th>6</th>\n",
       "      <td>8</td>\n",
       "      <td>Bullish</td>\n",
       "      <td>0.195</td>\n",
       "      <td>PTON</td>\n",
       "    </tr>\n",
       "    <tr>\n",
       "      <th>7</th>\n",
       "      <td>5</td>\n",
       "      <td>Bearish</td>\n",
       "      <td>-0.077</td>\n",
       "      <td>QQQ</td>\n",
       "    </tr>\n",
       "    <tr>\n",
       "      <th>8</th>\n",
       "      <td>5</td>\n",
       "      <td>Bullish</td>\n",
       "      <td>0.198</td>\n",
       "      <td>AMD</td>\n",
       "    </tr>\n",
       "    <tr>\n",
       "      <th>9</th>\n",
       "      <td>4</td>\n",
       "      <td>Bearish</td>\n",
       "      <td>-0.025</td>\n",
       "      <td>IBM</td>\n",
       "    </tr>\n",
       "  </tbody>\n",
       "</table>\n",
       "</div>"
      ],
      "text/plain": [
       "   no_of_comments sentiment  sentiment_score ticker\n",
       "0              55   Bullish            0.298     AI\n",
       "1              16   Bullish            0.349   AAPL\n",
       "2              10   Bullish            0.296   ADBE\n",
       "3               9   Bullish            0.157    CCL\n",
       "4               9   Bullish            0.031   NVDA\n",
       "5               9   Bullish            0.163   TSLA\n",
       "6               8   Bullish            0.195   PTON\n",
       "7               5   Bearish           -0.077    QQQ\n",
       "8               5   Bullish            0.198    AMD\n",
       "9               4   Bearish           -0.025    IBM"
      ]
     },
     "execution_count": 8,
     "metadata": {},
     "output_type": "execute_result"
    }
   ],
   "source": [
    "df = pd.DataFrame(data=data)\n",
    "df.head(10)"
   ]
  },
  {
   "cell_type": "code",
   "execution_count": 9,
   "id": "1faa5da9",
   "metadata": {},
   "outputs": [
    {
     "data": {
      "text/plain": [
       "0.349"
      ]
     },
     "execution_count": 9,
     "metadata": {},
     "output_type": "execute_result"
    }
   ],
   "source": [
    "col_max = df.head(10)['sentiment_score'].max(axis=0)\n",
    "col_max"
   ]
  },
  {
   "cell_type": "code",
   "execution_count": 10,
   "id": "338a6b60",
   "metadata": {},
   "outputs": [
    {
     "data": {
      "text/plain": [
       "-0.077"
      ]
     },
     "execution_count": 10,
     "metadata": {},
     "output_type": "execute_result"
    }
   ],
   "source": [
    "col_min = df.head(10)['sentiment_score'].min(axis=0)\n",
    "col_min"
   ]
  },
  {
   "cell_type": "code",
   "execution_count": 11,
   "id": "6ab1d990",
   "metadata": {},
   "outputs": [
    {
     "data": {
      "text/plain": [
       "0.15850000000000003"
      ]
     },
     "execution_count": 11,
     "metadata": {},
     "output_type": "execute_result"
    }
   ],
   "source": [
    "np.mean(df.head(10)['sentiment_score'])"
   ]
  },
  {
   "cell_type": "code",
   "execution_count": 12,
   "id": "6b60c253",
   "metadata": {},
   "outputs": [
    {
     "data": {
      "text/plain": [
       "1.5850000000000002"
      ]
     },
     "execution_count": 12,
     "metadata": {},
     "output_type": "execute_result"
    }
   ],
   "source": [
    "np.sum(df.head(10)['sentiment_score'])"
   ]
  },
  {
   "cell_type": "code",
   "execution_count": 13,
   "id": "4ea8ff33",
   "metadata": {},
   "outputs": [
    {
     "data": {
      "text/html": [
       "<div>\n",
       "<style scoped>\n",
       "    .dataframe tbody tr th:only-of-type {\n",
       "        vertical-align: middle;\n",
       "    }\n",
       "\n",
       "    .dataframe tbody tr th {\n",
       "        vertical-align: top;\n",
       "    }\n",
       "\n",
       "    .dataframe thead th {\n",
       "        text-align: right;\n",
       "    }\n",
       "</style>\n",
       "<table border=\"1\" class=\"dataframe\">\n",
       "  <thead>\n",
       "    <tr style=\"text-align: right;\">\n",
       "      <th></th>\n",
       "      <th>no_of_comments</th>\n",
       "      <th>sentiment</th>\n",
       "      <th>sentiment_score</th>\n",
       "      <th>ticker</th>\n",
       "    </tr>\n",
       "  </thead>\n",
       "  <tbody>\n",
       "    <tr>\n",
       "      <th>10</th>\n",
       "      <td>3</td>\n",
       "      <td>Bullish</td>\n",
       "      <td>0.741</td>\n",
       "      <td>FGEN</td>\n",
       "    </tr>\n",
       "    <tr>\n",
       "      <th>20</th>\n",
       "      <td>2</td>\n",
       "      <td>Bullish</td>\n",
       "      <td>0.591</td>\n",
       "      <td>GL</td>\n",
       "    </tr>\n",
       "    <tr>\n",
       "      <th>22</th>\n",
       "      <td>2</td>\n",
       "      <td>Bullish</td>\n",
       "      <td>0.702</td>\n",
       "      <td>CRWD</td>\n",
       "    </tr>\n",
       "    <tr>\n",
       "      <th>31</th>\n",
       "      <td>1</td>\n",
       "      <td>Bullish</td>\n",
       "      <td>0.659</td>\n",
       "      <td>PDT</td>\n",
       "    </tr>\n",
       "    <tr>\n",
       "      <th>47</th>\n",
       "      <td>1</td>\n",
       "      <td>Bullish</td>\n",
       "      <td>0.989</td>\n",
       "      <td>MRNA</td>\n",
       "    </tr>\n",
       "    <tr>\n",
       "      <th>48</th>\n",
       "      <td>1</td>\n",
       "      <td>Bullish</td>\n",
       "      <td>0.603</td>\n",
       "      <td>VERY</td>\n",
       "    </tr>\n",
       "    <tr>\n",
       "      <th>49</th>\n",
       "      <td>1</td>\n",
       "      <td>Bullish</td>\n",
       "      <td>0.532</td>\n",
       "      <td>WISH</td>\n",
       "    </tr>\n",
       "  </tbody>\n",
       "</table>\n",
       "</div>"
      ],
      "text/plain": [
       "    no_of_comments sentiment  sentiment_score ticker\n",
       "10               3   Bullish            0.741   FGEN\n",
       "20               2   Bullish            0.591     GL\n",
       "22               2   Bullish            0.702   CRWD\n",
       "31               1   Bullish            0.659    PDT\n",
       "47               1   Bullish            0.989   MRNA\n",
       "48               1   Bullish            0.603   VERY\n",
       "49               1   Bullish            0.532   WISH"
      ]
     },
     "execution_count": 13,
     "metadata": {},
     "output_type": "execute_result"
    }
   ],
   "source": [
    "df.query('sentiment_score >= .5').head(10)"
   ]
  },
  {
   "cell_type": "code",
   "execution_count": 14,
   "id": "7dfc6b05",
   "metadata": {},
   "outputs": [
    {
     "data": {
      "text/html": [
       "<div>\n",
       "<style scoped>\n",
       "    .dataframe tbody tr th:only-of-type {\n",
       "        vertical-align: middle;\n",
       "    }\n",
       "\n",
       "    .dataframe tbody tr th {\n",
       "        vertical-align: top;\n",
       "    }\n",
       "\n",
       "    .dataframe thead th {\n",
       "        text-align: right;\n",
       "    }\n",
       "</style>\n",
       "<table border=\"1\" class=\"dataframe\">\n",
       "  <thead>\n",
       "    <tr style=\"text-align: right;\">\n",
       "      <th></th>\n",
       "      <th>no_of_comments</th>\n",
       "      <th>sentiment</th>\n",
       "      <th>sentiment_score</th>\n",
       "      <th>ticker</th>\n",
       "    </tr>\n",
       "  </thead>\n",
       "  <tbody>\n",
       "    <tr>\n",
       "      <th>0</th>\n",
       "      <td>55</td>\n",
       "      <td>Bullish</td>\n",
       "      <td>0.298</td>\n",
       "      <td>AI</td>\n",
       "    </tr>\n",
       "    <tr>\n",
       "      <th>1</th>\n",
       "      <td>16</td>\n",
       "      <td>Bullish</td>\n",
       "      <td>0.349</td>\n",
       "      <td>AAPL</td>\n",
       "    </tr>\n",
       "    <tr>\n",
       "      <th>2</th>\n",
       "      <td>10</td>\n",
       "      <td>Bullish</td>\n",
       "      <td>0.296</td>\n",
       "      <td>ADBE</td>\n",
       "    </tr>\n",
       "    <tr>\n",
       "      <th>3</th>\n",
       "      <td>9</td>\n",
       "      <td>Bullish</td>\n",
       "      <td>0.157</td>\n",
       "      <td>CCL</td>\n",
       "    </tr>\n",
       "    <tr>\n",
       "      <th>4</th>\n",
       "      <td>9</td>\n",
       "      <td>Bullish</td>\n",
       "      <td>0.031</td>\n",
       "      <td>NVDA</td>\n",
       "    </tr>\n",
       "    <tr>\n",
       "      <th>5</th>\n",
       "      <td>9</td>\n",
       "      <td>Bullish</td>\n",
       "      <td>0.163</td>\n",
       "      <td>TSLA</td>\n",
       "    </tr>\n",
       "    <tr>\n",
       "      <th>6</th>\n",
       "      <td>8</td>\n",
       "      <td>Bullish</td>\n",
       "      <td>0.195</td>\n",
       "      <td>PTON</td>\n",
       "    </tr>\n",
       "    <tr>\n",
       "      <th>7</th>\n",
       "      <td>5</td>\n",
       "      <td>Bearish</td>\n",
       "      <td>-0.077</td>\n",
       "      <td>QQQ</td>\n",
       "    </tr>\n",
       "    <tr>\n",
       "      <th>8</th>\n",
       "      <td>5</td>\n",
       "      <td>Bullish</td>\n",
       "      <td>0.198</td>\n",
       "      <td>AMD</td>\n",
       "    </tr>\n",
       "    <tr>\n",
       "      <th>9</th>\n",
       "      <td>4</td>\n",
       "      <td>Bearish</td>\n",
       "      <td>-0.025</td>\n",
       "      <td>IBM</td>\n",
       "    </tr>\n",
       "  </tbody>\n",
       "</table>\n",
       "</div>"
      ],
      "text/plain": [
       "   no_of_comments sentiment  sentiment_score ticker\n",
       "0              55   Bullish            0.298     AI\n",
       "1              16   Bullish            0.349   AAPL\n",
       "2              10   Bullish            0.296   ADBE\n",
       "3               9   Bullish            0.157    CCL\n",
       "4               9   Bullish            0.031   NVDA\n",
       "5               9   Bullish            0.163   TSLA\n",
       "6               8   Bullish            0.195   PTON\n",
       "7               5   Bearish           -0.077    QQQ\n",
       "8               5   Bullish            0.198    AMD\n",
       "9               4   Bearish           -0.025    IBM"
      ]
     },
     "execution_count": 14,
     "metadata": {},
     "output_type": "execute_result"
    }
   ],
   "source": [
    "df.query('sentiment_score <= 1').head(10)"
   ]
  },
  {
   "cell_type": "code",
   "execution_count": 15,
   "id": "a43a8c87",
   "metadata": {},
   "outputs": [
    {
     "data": {
      "text/html": [
       "<div>\n",
       "<style scoped>\n",
       "    .dataframe tbody tr th:only-of-type {\n",
       "        vertical-align: middle;\n",
       "    }\n",
       "\n",
       "    .dataframe tbody tr th {\n",
       "        vertical-align: top;\n",
       "    }\n",
       "\n",
       "    .dataframe thead th {\n",
       "        text-align: right;\n",
       "    }\n",
       "</style>\n",
       "<table border=\"1\" class=\"dataframe\">\n",
       "  <thead>\n",
       "    <tr style=\"text-align: right;\">\n",
       "      <th></th>\n",
       "      <th>sentiment</th>\n",
       "      <th>sentiment_score</th>\n",
       "    </tr>\n",
       "  </thead>\n",
       "  <tbody>\n",
       "    <tr>\n",
       "      <th>0</th>\n",
       "      <td>Bullish</td>\n",
       "      <td>0.298</td>\n",
       "    </tr>\n",
       "    <tr>\n",
       "      <th>1</th>\n",
       "      <td>Bullish</td>\n",
       "      <td>0.349</td>\n",
       "    </tr>\n",
       "    <tr>\n",
       "      <th>2</th>\n",
       "      <td>Bullish</td>\n",
       "      <td>0.296</td>\n",
       "    </tr>\n",
       "    <tr>\n",
       "      <th>3</th>\n",
       "      <td>Bullish</td>\n",
       "      <td>0.157</td>\n",
       "    </tr>\n",
       "    <tr>\n",
       "      <th>4</th>\n",
       "      <td>Bullish</td>\n",
       "      <td>0.031</td>\n",
       "    </tr>\n",
       "    <tr>\n",
       "      <th>5</th>\n",
       "      <td>Bullish</td>\n",
       "      <td>0.163</td>\n",
       "    </tr>\n",
       "    <tr>\n",
       "      <th>6</th>\n",
       "      <td>Bullish</td>\n",
       "      <td>0.195</td>\n",
       "    </tr>\n",
       "    <tr>\n",
       "      <th>7</th>\n",
       "      <td>Bearish</td>\n",
       "      <td>-0.077</td>\n",
       "    </tr>\n",
       "    <tr>\n",
       "      <th>8</th>\n",
       "      <td>Bullish</td>\n",
       "      <td>0.198</td>\n",
       "    </tr>\n",
       "    <tr>\n",
       "      <th>9</th>\n",
       "      <td>Bearish</td>\n",
       "      <td>-0.025</td>\n",
       "    </tr>\n",
       "  </tbody>\n",
       "</table>\n",
       "</div>"
      ],
      "text/plain": [
       "  sentiment  sentiment_score\n",
       "0   Bullish            0.298\n",
       "1   Bullish            0.349\n",
       "2   Bullish            0.296\n",
       "3   Bullish            0.157\n",
       "4   Bullish            0.031\n",
       "5   Bullish            0.163\n",
       "6   Bullish            0.195\n",
       "7   Bearish           -0.077\n",
       "8   Bullish            0.198\n",
       "9   Bearish           -0.025"
      ]
     },
     "execution_count": 15,
     "metadata": {},
     "output_type": "execute_result"
    }
   ],
   "source": [
    "df.head(10).loc[0:9, ['sentiment', 'sentiment_score']]"
   ]
  },
  {
   "cell_type": "code",
   "execution_count": 16,
   "id": "b90bb445",
   "metadata": {},
   "outputs": [
    {
     "data": {
      "text/html": [
       "<div>\n",
       "<style scoped>\n",
       "    .dataframe tbody tr th:only-of-type {\n",
       "        vertical-align: middle;\n",
       "    }\n",
       "\n",
       "    .dataframe tbody tr th {\n",
       "        vertical-align: top;\n",
       "    }\n",
       "\n",
       "    .dataframe thead th {\n",
       "        text-align: right;\n",
       "    }\n",
       "</style>\n",
       "<table border=\"1\" class=\"dataframe\">\n",
       "  <thead>\n",
       "    <tr style=\"text-align: right;\">\n",
       "      <th></th>\n",
       "      <th>no_of_comments</th>\n",
       "      <th>sentiment</th>\n",
       "      <th>sentiment_score</th>\n",
       "      <th>ticker</th>\n",
       "    </tr>\n",
       "  </thead>\n",
       "  <tbody>\n",
       "    <tr>\n",
       "      <th>0</th>\n",
       "      <td>55</td>\n",
       "      <td>Bullish</td>\n",
       "      <td>0.298</td>\n",
       "      <td>AI</td>\n",
       "    </tr>\n",
       "    <tr>\n",
       "      <th>1</th>\n",
       "      <td>16</td>\n",
       "      <td>Bullish</td>\n",
       "      <td>0.349</td>\n",
       "      <td>AAPL</td>\n",
       "    </tr>\n",
       "    <tr>\n",
       "      <th>2</th>\n",
       "      <td>10</td>\n",
       "      <td>Bullish</td>\n",
       "      <td>0.296</td>\n",
       "      <td>ADBE</td>\n",
       "    </tr>\n",
       "    <tr>\n",
       "      <th>3</th>\n",
       "      <td>9</td>\n",
       "      <td>Bullish</td>\n",
       "      <td>0.157</td>\n",
       "      <td>CCL</td>\n",
       "    </tr>\n",
       "  </tbody>\n",
       "</table>\n",
       "</div>"
      ],
      "text/plain": [
       "   no_of_comments sentiment  sentiment_score ticker\n",
       "0              55   Bullish            0.298     AI\n",
       "1              16   Bullish            0.349   AAPL\n",
       "2              10   Bullish            0.296   ADBE\n",
       "3               9   Bullish            0.157    CCL"
      ]
     },
     "execution_count": 16,
     "metadata": {},
     "output_type": "execute_result"
    }
   ],
   "source": [
    "df.head(10).iloc[0:4]"
   ]
  }
 ],
 "metadata": {
  "kernelspec": {
   "display_name": "Python 3 (ipykernel)",
   "language": "python",
   "name": "python3"
  },
  "language_info": {
   "codemirror_mode": {
    "name": "ipython",
    "version": 3
   },
   "file_extension": ".py",
   "mimetype": "text/x-python",
   "name": "python",
   "nbconvert_exporter": "python",
   "pygments_lexer": "ipython3",
   "version": "3.9.13"
  }
 },
 "nbformat": 4,
 "nbformat_minor": 5
}
